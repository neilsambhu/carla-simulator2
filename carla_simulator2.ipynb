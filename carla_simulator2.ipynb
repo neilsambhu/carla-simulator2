{
  "nbformat": 4,
  "nbformat_minor": 0,
  "metadata": {
    "colab": {
      "name": "carla-simulator2.ipynb",
      "provenance": [],
      "collapsed_sections": [],
      "authorship_tag": "ABX9TyNqEn+hQjbWSCspIv+g6BkD",
      "include_colab_link": true
    },
    "kernelspec": {
      "name": "python3",
      "display_name": "Python 3"
    },
    "language_info": {
      "name": "python"
    },
    "accelerator": "GPU",
    "widgets": {
      "application/vnd.jupyter.widget-state+json": {
        "958765a5521942a4ae5025d9c7aef96d": {
          "model_module": "@jupyter-widgets/controls",
          "model_name": "LabelModel",
          "model_module_version": "1.5.0",
          "state": {
            "_view_name": "LabelView",
            "style": "IPY_MODEL_fc4905b7c4e54c3da4fe0fbcea276768",
            "_dom_classes": [],
            "description": "",
            "_model_name": "LabelModel",
            "placeholder": "​",
            "_view_module": "@jupyter-widgets/controls",
            "_model_module_version": "1.5.0",
            "value": "openssh-server: Installed openssh-server (amd64)",
            "_view_count": null,
            "_view_module_version": "1.5.0",
            "description_tooltip": null,
            "_model_module": "@jupyter-widgets/controls",
            "layout": "IPY_MODEL_d047392f63044d2f858016b4cd43aada"
          }
        },
        "fc4905b7c4e54c3da4fe0fbcea276768": {
          "model_module": "@jupyter-widgets/controls",
          "model_name": "DescriptionStyleModel",
          "model_module_version": "1.5.0",
          "state": {
            "_view_name": "StyleView",
            "_model_name": "DescriptionStyleModel",
            "description_width": "",
            "_view_module": "@jupyter-widgets/base",
            "_model_module_version": "1.5.0",
            "_view_count": null,
            "_view_module_version": "1.2.0",
            "_model_module": "@jupyter-widgets/controls"
          }
        },
        "d047392f63044d2f858016b4cd43aada": {
          "model_module": "@jupyter-widgets/base",
          "model_name": "LayoutModel",
          "model_module_version": "1.2.0",
          "state": {
            "_view_name": "LayoutView",
            "grid_template_rows": null,
            "right": null,
            "justify_content": null,
            "_view_module": "@jupyter-widgets/base",
            "overflow": null,
            "_model_module_version": "1.2.0",
            "_view_count": null,
            "flex_flow": null,
            "width": null,
            "min_width": null,
            "border": null,
            "align_items": null,
            "bottom": null,
            "_model_module": "@jupyter-widgets/base",
            "top": null,
            "grid_column": null,
            "overflow_y": null,
            "overflow_x": null,
            "grid_auto_flow": null,
            "grid_area": null,
            "grid_template_columns": null,
            "flex": null,
            "_model_name": "LayoutModel",
            "justify_items": null,
            "grid_row": null,
            "max_height": null,
            "align_content": null,
            "visibility": null,
            "align_self": null,
            "height": null,
            "min_height": null,
            "padding": null,
            "grid_auto_rows": null,
            "grid_gap": null,
            "max_width": null,
            "order": null,
            "_view_module_version": "1.2.0",
            "grid_template_areas": null,
            "object_position": null,
            "object_fit": null,
            "grid_auto_columns": null,
            "margin": null,
            "display": null,
            "left": null
          }
        },
        "e4bfff435f2b492ba53056f7feea27c4": {
          "model_module": "@jupyter-widgets/controls",
          "model_name": "FloatProgressModel",
          "model_module_version": "1.5.0",
          "state": {
            "_view_name": "ProgressView",
            "style": "IPY_MODEL_9087e6fc1e0c4179b20e96960c633a96",
            "_dom_classes": [],
            "description": "",
            "_model_name": "FloatProgressModel",
            "bar_style": "",
            "max": 1,
            "_view_module": "@jupyter-widgets/controls",
            "_model_module_version": "1.5.0",
            "value": 0.9836069999999999,
            "_view_count": null,
            "_view_module_version": "1.5.0",
            "orientation": "horizontal",
            "min": 0,
            "description_tooltip": null,
            "_model_module": "@jupyter-widgets/controls",
            "layout": "IPY_MODEL_fb46a0c8c2834d0aa4762697aeb79ee4"
          }
        },
        "9087e6fc1e0c4179b20e96960c633a96": {
          "model_module": "@jupyter-widgets/controls",
          "model_name": "ProgressStyleModel",
          "model_module_version": "1.5.0",
          "state": {
            "_view_name": "StyleView",
            "_model_name": "ProgressStyleModel",
            "description_width": "",
            "_view_module": "@jupyter-widgets/base",
            "_model_module_version": "1.5.0",
            "_view_count": null,
            "_view_module_version": "1.2.0",
            "bar_color": null,
            "_model_module": "@jupyter-widgets/controls"
          }
        },
        "fb46a0c8c2834d0aa4762697aeb79ee4": {
          "model_module": "@jupyter-widgets/base",
          "model_name": "LayoutModel",
          "model_module_version": "1.2.0",
          "state": {
            "_view_name": "LayoutView",
            "grid_template_rows": null,
            "right": null,
            "justify_content": null,
            "_view_module": "@jupyter-widgets/base",
            "overflow": null,
            "_model_module_version": "1.2.0",
            "_view_count": null,
            "flex_flow": null,
            "width": null,
            "min_width": null,
            "border": "1px solid #118800",
            "align_items": null,
            "bottom": null,
            "_model_module": "@jupyter-widgets/base",
            "top": null,
            "grid_column": null,
            "overflow_y": null,
            "overflow_x": null,
            "grid_auto_flow": null,
            "grid_area": null,
            "grid_template_columns": null,
            "flex": null,
            "_model_name": "LayoutModel",
            "justify_items": null,
            "grid_row": null,
            "max_height": null,
            "align_content": null,
            "visibility": null,
            "align_self": null,
            "height": null,
            "min_height": null,
            "padding": null,
            "grid_auto_rows": null,
            "grid_gap": null,
            "max_width": null,
            "order": null,
            "_view_module_version": "1.2.0",
            "grid_template_areas": null,
            "object_position": null,
            "object_fit": null,
            "grid_auto_columns": null,
            "margin": null,
            "display": null,
            "left": null
          }
        },
        "1da4f9463f634cf9ac82632d58e29237": {
          "model_module": "@jupyter-widgets/controls",
          "model_name": "LabelModel",
          "model_module_version": "1.5.0",
          "state": {
            "_view_name": "LabelView",
            "style": "IPY_MODEL_863ebfd4a1034f21b52b01826d7e65db",
            "_dom_classes": [],
            "description": "",
            "_model_name": "LabelModel",
            "placeholder": "​",
            "_view_module": "@jupyter-widgets/controls",
            "_model_module_version": "1.5.0",
            "value": "dictionaries-common: Installed dictionaries-common (amd64)",
            "_view_count": null,
            "_view_module_version": "1.5.0",
            "description_tooltip": null,
            "_model_module": "@jupyter-widgets/controls",
            "layout": "IPY_MODEL_b1885875817e47fda7599f4d72424ed3"
          }
        },
        "863ebfd4a1034f21b52b01826d7e65db": {
          "model_module": "@jupyter-widgets/controls",
          "model_name": "DescriptionStyleModel",
          "model_module_version": "1.5.0",
          "state": {
            "_view_name": "StyleView",
            "_model_name": "DescriptionStyleModel",
            "description_width": "",
            "_view_module": "@jupyter-widgets/base",
            "_model_module_version": "1.5.0",
            "_view_count": null,
            "_view_module_version": "1.2.0",
            "_model_module": "@jupyter-widgets/controls"
          }
        },
        "b1885875817e47fda7599f4d72424ed3": {
          "model_module": "@jupyter-widgets/base",
          "model_name": "LayoutModel",
          "model_module_version": "1.2.0",
          "state": {
            "_view_name": "LayoutView",
            "grid_template_rows": null,
            "right": null,
            "justify_content": null,
            "_view_module": "@jupyter-widgets/base",
            "overflow": null,
            "_model_module_version": "1.2.0",
            "_view_count": null,
            "flex_flow": null,
            "width": null,
            "min_width": null,
            "border": null,
            "align_items": null,
            "bottom": null,
            "_model_module": "@jupyter-widgets/base",
            "top": null,
            "grid_column": null,
            "overflow_y": null,
            "overflow_x": null,
            "grid_auto_flow": null,
            "grid_area": null,
            "grid_template_columns": null,
            "flex": null,
            "_model_name": "LayoutModel",
            "justify_items": null,
            "grid_row": null,
            "max_height": null,
            "align_content": null,
            "visibility": null,
            "align_self": null,
            "height": null,
            "min_height": null,
            "padding": null,
            "grid_auto_rows": null,
            "grid_gap": null,
            "max_width": null,
            "order": null,
            "_view_module_version": "1.2.0",
            "grid_template_areas": null,
            "object_position": null,
            "object_fit": null,
            "grid_auto_columns": null,
            "margin": null,
            "display": null,
            "left": null
          }
        },
        "9b7944a8eea64d769bd522cd238f28d8": {
          "model_module": "@jupyter-widgets/controls",
          "model_name": "FloatProgressModel",
          "model_module_version": "1.5.0",
          "state": {
            "_view_name": "ProgressView",
            "style": "IPY_MODEL_20db3fe6f2b2447a947b67f04ca5d4a1",
            "_dom_classes": [],
            "description": "",
            "_model_name": "FloatProgressModel",
            "bar_style": "",
            "max": 1,
            "_view_module": "@jupyter-widgets/controls",
            "_model_module_version": "1.5.0",
            "value": 0.999218,
            "_view_count": null,
            "_view_module_version": "1.5.0",
            "orientation": "horizontal",
            "min": 0,
            "description_tooltip": null,
            "_model_module": "@jupyter-widgets/controls",
            "layout": "IPY_MODEL_b493b025892b49eea64f6ec7fb7d3628"
          }
        },
        "20db3fe6f2b2447a947b67f04ca5d4a1": {
          "model_module": "@jupyter-widgets/controls",
          "model_name": "ProgressStyleModel",
          "model_module_version": "1.5.0",
          "state": {
            "_view_name": "StyleView",
            "_model_name": "ProgressStyleModel",
            "description_width": "",
            "_view_module": "@jupyter-widgets/base",
            "_model_module_version": "1.5.0",
            "_view_count": null,
            "_view_module_version": "1.2.0",
            "bar_color": null,
            "_model_module": "@jupyter-widgets/controls"
          }
        },
        "b493b025892b49eea64f6ec7fb7d3628": {
          "model_module": "@jupyter-widgets/base",
          "model_name": "LayoutModel",
          "model_module_version": "1.2.0",
          "state": {
            "_view_name": "LayoutView",
            "grid_template_rows": null,
            "right": null,
            "justify_content": null,
            "_view_module": "@jupyter-widgets/base",
            "overflow": null,
            "_model_module_version": "1.2.0",
            "_view_count": null,
            "flex_flow": null,
            "width": null,
            "min_width": null,
            "border": "1px solid #118800",
            "align_items": null,
            "bottom": null,
            "_model_module": "@jupyter-widgets/base",
            "top": null,
            "grid_column": null,
            "overflow_y": null,
            "overflow_x": null,
            "grid_auto_flow": null,
            "grid_area": null,
            "grid_template_columns": null,
            "flex": null,
            "_model_name": "LayoutModel",
            "justify_items": null,
            "grid_row": null,
            "max_height": null,
            "align_content": null,
            "visibility": null,
            "align_self": null,
            "height": null,
            "min_height": null,
            "padding": null,
            "grid_auto_rows": null,
            "grid_gap": null,
            "max_width": null,
            "order": null,
            "_view_module_version": "1.2.0",
            "grid_template_areas": null,
            "object_position": null,
            "object_fit": null,
            "grid_auto_columns": null,
            "margin": null,
            "display": null,
            "left": null
          }
        }
      }
    }
  },
  "cells": [
    {
      "cell_type": "markdown",
      "metadata": {
        "id": "view-in-github",
        "colab_type": "text"
      },
      "source": [
        "<a href=\"https://colab.research.google.com/github/neilsambhu/carla-simulator2/blob/main/carla_simulator2.ipynb\" target=\"_parent\"><img src=\"https://colab.research.google.com/assets/colab-badge.svg\" alt=\"Open In Colab\"/></a>"
      ]
    },
    {
      "cell_type": "markdown",
      "source": [
        "Sandbox for CARLA simulator following https://github.com/MichaelBosello/carla-colab. Original *.ipynb file: https://colab.research.google.com/github/MichaelBosello/carla-colab/blob/master/carla-simulator.ipynb. \n",
        "\n",
        "In case of poor functionality: Runtime > Restart runtime (Ctrl+M.)"
      ],
      "metadata": {
        "id": "G40OyV3Q3WCg"
      }
    },
    {
      "cell_type": "markdown",
      "source": [
        "2/17/2022 8:49 PM: instead of (1) \"!\" to execute shell commands, use (2) the Python \"subprocess\" module to ensure compatibility between iPython and Python (complete as of 2/17/2022 10:16 PM).\n",
        "\n",
        "2/17/2022 10:23 PM: I made the Call_SubprocessPopen(cmd) function for easily calling shell commands. \n",
        "\n",
        "2/17/2022 11:02 PM: The subprocess.run will fail for command-line arguments separated by spaces. The subprocess.run requires a list."
      ],
      "metadata": {
        "id": "5tOFIHdFhJpm"
      }
    },
    {
      "cell_type": "code",
      "source": [
        "import subprocess, sys\n",
        "from sys import platform\n",
        "def Call_SubprocessPopen(cmd):\n",
        "  p = subprocess.Popen(cmd, shell=True, stdout=subprocess.PIPE, stderr=subprocess.STDOUT)\n",
        "  # p = subprocess.run(cmd, capture_output=True, text=True, check=True)\n",
        "  for line in p.stdout.readlines():\n",
        "    sys.stdout.write(line.decode(\"utf-8\"))\n",
        "    # sys.stdout.write((r\"utf-8\")line)\n",
        "    pass\n",
        "  # print(p.stdout)\n",
        "if platform == \"linux\" or platform == \"linux2\":\n",
        "  # for multi-line output: use \"pip --help\" instead of \"pwd\" \n",
        "  cmd = \"pwd\"\n",
        "  # cmd = \"pip --help\"\n",
        "  Call_SubprocessPopen(cmd)\n",
        "elif platform == \"win32\":\n",
        "  raise Exception(\"2/17/2022 8:59 PM: This code is designed to run in a Linux-based environment.\")"
      ],
      "metadata": {
        "colab": {
          "base_uri": "https://localhost:8080/"
        },
        "id": "hAQfgGU0odsE",
        "outputId": "c856d76a-ec23-48b8-ad9a-752247427923"
      },
      "execution_count": 1,
      "outputs": [
        {
          "output_type": "stream",
          "name": "stdout",
          "text": [
            "/content\n"
          ]
        }
      ]
    },
    {
      "cell_type": "code",
      "source": [
        "# <10 seconds\n",
        "Call_SubprocessPopen(\"pip install git+https://github.com/demotomohiro/remocolab.git\")"
      ],
      "metadata": {
        "colab": {
          "base_uri": "https://localhost:8080/"
        },
        "id": "UhW-_NJ5hH3N",
        "outputId": "13bd611c-49cd-40cc-8914-6967f04e817c"
      },
      "execution_count": 2,
      "outputs": [
        {
          "output_type": "stream",
          "name": "stdout",
          "text": [
            "Collecting git+https://github.com/demotomohiro/remocolab.git\n",
            "  Cloning https://github.com/demotomohiro/remocolab.git to /tmp/pip-req-build-haa52oex\n",
            "  Running command git clone -q https://github.com/demotomohiro/remocolab.git /tmp/pip-req-build-haa52oex\n",
            "Collecting pyngrok\n",
            "  Downloading pyngrok-5.1.0.tar.gz (745 kB)\n",
            "Requirement already satisfied: PyYAML in /usr/local/lib/python3.7/dist-packages (from pyngrok->remocolab.py==0.1) (3.13)\n",
            "Building wheels for collected packages: remocolab.py, pyngrok\n",
            "  Building wheel for remocolab.py (setup.py): started\n",
            "  Building wheel for remocolab.py (setup.py): finished with status 'done'\n",
            "  Created wheel for remocolab.py: filename=remocolab.py-0.1-py3-none-any.whl size=7553 sha256=07b1e2ecaaa4c37c90cff7b7b80c959aef2e8b5899852e08302f19e2f095a807\n",
            "  Stored in directory: /tmp/pip-ephem-wheel-cache-x6a2m41_/wheels/80/37/44/386e71ab0cd5aef5cefdb1926b710a42fdb4fe2d07c3b1b08f\n",
            "  Building wheel for pyngrok (setup.py): started\n",
            "  Building wheel for pyngrok (setup.py): finished with status 'done'\n",
            "  Created wheel for pyngrok: filename=pyngrok-5.1.0-py3-none-any.whl size=19007 sha256=b2e28b67ed9dbc7a5c14dae287b55ae9a8b1be9791d9ea784681918a6c4517e1\n",
            "  Stored in directory: /root/.cache/pip/wheels/bf/e6/af/ccf6598ecefecd44104069371795cb9b3afbcd16987f6ccfb3\n",
            "Successfully built remocolab.py pyngrok\n",
            "Installing collected packages: pyngrok, remocolab.py\n",
            "Successfully installed pyngrok-5.1.0 remocolab.py-0.1\n"
          ]
        }
      ]
    },
    {
      "cell_type": "code",
      "source": [
        "# <5.5 minutes\n",
        "import remocolab\n",
        "remocolab.setupVNC()"
      ],
      "metadata": {
        "colab": {
          "base_uri": "https://localhost:8080/",
          "height": 659,
          "referenced_widgets": [
            "958765a5521942a4ae5025d9c7aef96d",
            "fc4905b7c4e54c3da4fe0fbcea276768",
            "d047392f63044d2f858016b4cd43aada",
            "e4bfff435f2b492ba53056f7feea27c4",
            "9087e6fc1e0c4179b20e96960c633a96",
            "fb46a0c8c2834d0aa4762697aeb79ee4",
            "1da4f9463f634cf9ac82632d58e29237",
            "863ebfd4a1034f21b52b01826d7e65db",
            "b1885875817e47fda7599f4d72424ed3",
            "9b7944a8eea64d769bd522cd238f28d8",
            "20db3fe6f2b2447a947b67f04ca5d4a1",
            "b493b025892b49eea64f6ec7fb7d3628"
          ]
        },
        "id": "iGuxwegu4oU8",
        "outputId": "9ead195c-af6a-4db8-acdd-fc09d0adbe36"
      },
      "execution_count": 3,
      "outputs": [
        {
          "output_type": "stream",
          "name": "stdout",
          "text": [
            "Warning! GPU of your assigned virtual machine is Tesla K80.\n",
            "You might get better GPU by reseting the runtime.\n",
            "Do you want to continue? [y/n] y\n",
            "---\n",
            "As ngrok doesn't work on colab for long time, default tunnel method has been changed to Argo tunnel.\n",
            "Please read this for more details:\n",
            "https://github.com/demotomohiro/remocolab/blob/master/README.md\n"
          ]
        },
        {
          "output_type": "display_data",
          "data": {
            "application/vnd.jupyter.widget-view+json": {
              "model_id": "958765a5521942a4ae5025d9c7aef96d",
              "version_minor": 0,
              "version_major": 2
            },
            "text/plain": [
              "Label(value='')"
            ]
          },
          "metadata": {}
        },
        {
          "output_type": "display_data",
          "data": {
            "application/vnd.jupyter.widget-view+json": {
              "model_id": "e4bfff435f2b492ba53056f7feea27c4",
              "version_minor": 0,
              "version_major": 2
            },
            "text/plain": [
              "FloatProgress(value=0.0, layout=Layout(border='1px solid #118800'), max=1.0)"
            ]
          },
          "metadata": {}
        },
        {
          "output_type": "stream",
          "name": "stdout",
          "text": [
            "Install openssh-server\n"
          ]
        },
        {
          "output_type": "display_data",
          "data": {
            "application/vnd.jupyter.widget-view+json": {
              "model_id": "1da4f9463f634cf9ac82632d58e29237",
              "version_minor": 0,
              "version_major": 2
            },
            "text/plain": [
              "Label(value='')"
            ]
          },
          "metadata": {}
        },
        {
          "output_type": "display_data",
          "data": {
            "application/vnd.jupyter.widget-view+json": {
              "model_id": "9b7944a8eea64d769bd522cd238f28d8",
              "version_minor": 0,
              "version_major": 2
            },
            "text/plain": [
              "FloatProgress(value=0.0, layout=Layout(border='1px solid #118800'), max=1.0)"
            ]
          },
          "metadata": {}
        },
        {
          "output_type": "stream",
          "name": "stdout",
          "text": [
            "Install xfce4\n",
            "Install xfce4-terminal\n",
            "ED25519 key fingerprint of host:\n",
            "256 SHA256:WhMoMGN+I0xkQvMXr1He52E9FoAomKSnZ9emcxuASR0 root@45c5895d295f (ED25519)\n",
            "+--[ED25519 256]--+\n",
            "|o+X.oE .. ....   |\n",
            "| B+*..*o..  . .  |\n",
            "| .++++oo.. + +   |\n",
            "|  +o+o+  .+ o .  |\n",
            "| . = + oS  .     |\n",
            "|  o . +o .       |\n",
            "|     o.o         |\n",
            "|      o o        |\n",
            "|       .         |\n",
            "+----[SHA256]-----+\n",
            "\n",
            "✂️✂️✂️✂️✂️✂️✂️✂️✂️✂️✂️✂️✂️✂️✂️✂️✂️✂️✂️✂️✂️✂️✂️✂️\n",
            "root password: 5Ni8V3AsehHZsY-6CV61HuBv6R89zcZ6-8tza7qigUo\n",
            "colab password: HEpZXYn7N1tM-crkXa5sdSqijiPWWgrnnWOEwMLpWoQ\n",
            "✂️✂️✂️✂️✂️✂️✂️✂️✂️✂️✂️✂️✂️✂️✂️✂️✂️✂️✂️✂️✂️✂️✂️✂️\n",
            "---\n",
            "Execute following command on your local machine and login before running TurboVNC viewer:\n",
            "✂️✂️✂️✂️✂️✂️✂️✂️✂️✂️✂️✂️✂️✂️✂️✂️✂️✂️✂️✂️✂️✂️✂️✂️\n",
            "ssh -o UserKnownHostsFile=/dev/null -o VisualHostKey=yes -oProxyCommand=\"cloudflared access ssh --hostname %h\" -L 5901:localhost:5901 colab@vat-bracket-mean-hobbies.trycloudflare.com\n",
            "✂️✂️✂️✂️✂️✂️✂️✂️✂️✂️✂️✂️✂️✂️✂️✂️✂️✂️✂️✂️✂️✂️✂️✂️\n",
            "VNC password: Fc8esAoz\n",
            "VNC view only password: gOdwZyri\n",
            "✂️✂️✂️✂️✂️✂️✂️✂️✂️✂️✂️✂️✂️✂️✂️✂️✂️✂️✂️✂️✂️✂️✂️✂️\n",
            "\n"
          ]
        }
      ]
    },
    {
      "cell_type": "markdown",
      "source": [
        "2/20/2022 9:01 PM: Problem:\n",
        "ssh -o UserKnownHostsFile=/dev/null -o VisualHostKey=yes -oProxyCommand=\"cloudflared access ssh --hostname %h\" -L 5901:localhost:5901 colab@vat-bracket-mean-hobbies.trycloudflare.com\n",
        "/bin/bash: line 0: exec: cloudflared: not found\n",
        "kex_exchange_identification: Connection closed by remote host\n",
        "\n",
        "[install cloudflared (https://pkg.cloudflare.com/#ubuntu-title) in Windows Subsystem for Linux]\n",
        "\n",
        "2/20/2022 9:08 PM: Problem\n",
        "ssh -o UserKnownHostsFile=/dev/null -o VisualHostKey=yes -o ProxyCommand=\"cloudflared access ssh --hostname %h\" -L 5901:localhost:5901 colab@vat-bracket-mean-hobbies.trycloudflare.com\n",
        "/bin/bash: line 0: exec: cloudflared: not found\n",
        "kex_exchange_identification: Connection closed by remote host"
      ],
      "metadata": {
        "id": "e9lUr1xTAuXG"
      }
    },
    {
      "cell_type": "code",
      "source": [
        ""
      ],
      "metadata": {
        "id": "hiLOdeQzKrmp"
      },
      "execution_count": 3,
      "outputs": []
    }
  ]
}